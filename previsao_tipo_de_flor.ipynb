{
 "cells": [
  {
   "cell_type": "markdown",
   "id": "30e8fcf9",
   "metadata": {},
   "source": [
    "# Objetivo: prever a classe da flor com base nas features disponíveis"
   ]
  },
  {
   "cell_type": "markdown",
   "id": "726fa49e",
   "metadata": {},
   "source": [
    "## Importação das bibliotecas básicas"
   ]
  },
  {
   "cell_type": "code",
   "execution_count": 158,
   "id": "681d4d2a",
   "metadata": {},
   "outputs": [],
   "source": [
    "import pandas as pd\n",
    "import numpy as np\n",
    "import matplotlib.pyplot as plt\n",
    "\n",
    "%matplotlib inline"
   ]
  },
  {
   "cell_type": "code",
   "execution_count": 159,
   "id": "75cca232",
   "metadata": {},
   "outputs": [],
   "source": [
    "import warnings\n",
    "warnings.filterwarnings('ignore')"
   ]
  },
  {
   "cell_type": "markdown",
   "id": "4dc3806f",
   "metadata": {},
   "source": [
    "## Importando os dados para um dataset e operações básicas para exame"
   ]
  },
  {
   "cell_type": "code",
   "execution_count": 160,
   "id": "f23c8c07",
   "metadata": {},
   "outputs": [],
   "source": [
    "dataset = pd.read_csv(\"iris.csv\")"
   ]
  },
  {
   "cell_type": "code",
   "execution_count": 161,
   "id": "9bfcc093",
   "metadata": {},
   "outputs": [
    {
     "data": {
      "text/html": [
       "<div>\n",
       "<style scoped>\n",
       "    .dataframe tbody tr th:only-of-type {\n",
       "        vertical-align: middle;\n",
       "    }\n",
       "\n",
       "    .dataframe tbody tr th {\n",
       "        vertical-align: top;\n",
       "    }\n",
       "\n",
       "    .dataframe thead th {\n",
       "        text-align: right;\n",
       "    }\n",
       "</style>\n",
       "<table border=\"1\" class=\"dataframe\">\n",
       "  <thead>\n",
       "    <tr style=\"text-align: right;\">\n",
       "      <th></th>\n",
       "      <th>sepal_lenght</th>\n",
       "      <th>sepal_width</th>\n",
       "      <th>petal_lenght</th>\n",
       "      <th>petal_width</th>\n",
       "      <th>class</th>\n",
       "    </tr>\n",
       "  </thead>\n",
       "  <tbody>\n",
       "    <tr>\n",
       "      <th>0</th>\n",
       "      <td>5.1</td>\n",
       "      <td>3.5</td>\n",
       "      <td>1.4</td>\n",
       "      <td>0.2</td>\n",
       "      <td>Iris-setosa</td>\n",
       "    </tr>\n",
       "    <tr>\n",
       "      <th>1</th>\n",
       "      <td>4.9</td>\n",
       "      <td>3.0</td>\n",
       "      <td>1.4</td>\n",
       "      <td>0.2</td>\n",
       "      <td>Iris-setosa</td>\n",
       "    </tr>\n",
       "    <tr>\n",
       "      <th>2</th>\n",
       "      <td>4.7</td>\n",
       "      <td>3.2</td>\n",
       "      <td>1.3</td>\n",
       "      <td>0.2</td>\n",
       "      <td>Iris-setosa</td>\n",
       "    </tr>\n",
       "    <tr>\n",
       "      <th>3</th>\n",
       "      <td>4.6</td>\n",
       "      <td>3.1</td>\n",
       "      <td>1.5</td>\n",
       "      <td>0.2</td>\n",
       "      <td>Iris-setosa</td>\n",
       "    </tr>\n",
       "    <tr>\n",
       "      <th>4</th>\n",
       "      <td>5.0</td>\n",
       "      <td>3.6</td>\n",
       "      <td>1.4</td>\n",
       "      <td>0.2</td>\n",
       "      <td>Iris-setosa</td>\n",
       "    </tr>\n",
       "  </tbody>\n",
       "</table>\n",
       "</div>"
      ],
      "text/plain": [
       "   sepal_lenght  sepal_width  petal_lenght  petal_width        class\n",
       "0           5.1          3.5           1.4          0.2  Iris-setosa\n",
       "1           4.9          3.0           1.4          0.2  Iris-setosa\n",
       "2           4.7          3.2           1.3          0.2  Iris-setosa\n",
       "3           4.6          3.1           1.5          0.2  Iris-setosa\n",
       "4           5.0          3.6           1.4          0.2  Iris-setosa"
      ]
     },
     "execution_count": 161,
     "metadata": {},
     "output_type": "execute_result"
    }
   ],
   "source": [
    "dataset.head()"
   ]
  },
  {
   "cell_type": "code",
   "execution_count": 162,
   "id": "30e58906",
   "metadata": {},
   "outputs": [
    {
     "data": {
      "text/html": [
       "<div>\n",
       "<style scoped>\n",
       "    .dataframe tbody tr th:only-of-type {\n",
       "        vertical-align: middle;\n",
       "    }\n",
       "\n",
       "    .dataframe tbody tr th {\n",
       "        vertical-align: top;\n",
       "    }\n",
       "\n",
       "    .dataframe thead th {\n",
       "        text-align: right;\n",
       "    }\n",
       "</style>\n",
       "<table border=\"1\" class=\"dataframe\">\n",
       "  <thead>\n",
       "    <tr style=\"text-align: right;\">\n",
       "      <th></th>\n",
       "      <th>sepal_lenght</th>\n",
       "      <th>sepal_width</th>\n",
       "      <th>petal_lenght</th>\n",
       "      <th>petal_width</th>\n",
       "    </tr>\n",
       "  </thead>\n",
       "  <tbody>\n",
       "    <tr>\n",
       "      <th>count</th>\n",
       "      <td>150.000</td>\n",
       "      <td>150.000</td>\n",
       "      <td>150.000</td>\n",
       "      <td>150.000</td>\n",
       "    </tr>\n",
       "    <tr>\n",
       "      <th>mean</th>\n",
       "      <td>5.843</td>\n",
       "      <td>3.054</td>\n",
       "      <td>3.759</td>\n",
       "      <td>1.199</td>\n",
       "    </tr>\n",
       "    <tr>\n",
       "      <th>std</th>\n",
       "      <td>0.828</td>\n",
       "      <td>0.434</td>\n",
       "      <td>1.764</td>\n",
       "      <td>0.763</td>\n",
       "    </tr>\n",
       "    <tr>\n",
       "      <th>min</th>\n",
       "      <td>4.300</td>\n",
       "      <td>2.000</td>\n",
       "      <td>1.000</td>\n",
       "      <td>0.100</td>\n",
       "    </tr>\n",
       "    <tr>\n",
       "      <th>25%</th>\n",
       "      <td>5.100</td>\n",
       "      <td>2.800</td>\n",
       "      <td>1.600</td>\n",
       "      <td>0.300</td>\n",
       "    </tr>\n",
       "    <tr>\n",
       "      <th>50%</th>\n",
       "      <td>5.800</td>\n",
       "      <td>3.000</td>\n",
       "      <td>4.350</td>\n",
       "      <td>1.300</td>\n",
       "    </tr>\n",
       "    <tr>\n",
       "      <th>75%</th>\n",
       "      <td>6.400</td>\n",
       "      <td>3.300</td>\n",
       "      <td>5.100</td>\n",
       "      <td>1.800</td>\n",
       "    </tr>\n",
       "    <tr>\n",
       "      <th>max</th>\n",
       "      <td>7.900</td>\n",
       "      <td>4.400</td>\n",
       "      <td>6.900</td>\n",
       "      <td>2.500</td>\n",
       "    </tr>\n",
       "  </tbody>\n",
       "</table>\n",
       "</div>"
      ],
      "text/plain": [
       "       sepal_lenght  sepal_width  petal_lenght  petal_width\n",
       "count       150.000      150.000       150.000      150.000\n",
       "mean          5.843        3.054         3.759        1.199\n",
       "std           0.828        0.434         1.764        0.763\n",
       "min           4.300        2.000         1.000        0.100\n",
       "25%           5.100        2.800         1.600        0.300\n",
       "50%           5.800        3.000         4.350        1.300\n",
       "75%           6.400        3.300         5.100        1.800\n",
       "max           7.900        4.400         6.900        2.500"
      ]
     },
     "execution_count": 162,
     "metadata": {},
     "output_type": "execute_result"
    }
   ],
   "source": [
    "dataset.describe().round(3)"
   ]
  },
  {
   "cell_type": "markdown",
   "id": "90b42df4",
   "metadata": {},
   "source": [
    "## Matriz de correlação em que se pode observar alguns elementos:"
   ]
  },
  {
   "cell_type": "code",
   "execution_count": 163,
   "id": "dc4f2ccb",
   "metadata": {
    "scrolled": true
   },
   "outputs": [
    {
     "data": {
      "text/html": [
       "<div>\n",
       "<style scoped>\n",
       "    .dataframe tbody tr th:only-of-type {\n",
       "        vertical-align: middle;\n",
       "    }\n",
       "\n",
       "    .dataframe tbody tr th {\n",
       "        vertical-align: top;\n",
       "    }\n",
       "\n",
       "    .dataframe thead th {\n",
       "        text-align: right;\n",
       "    }\n",
       "</style>\n",
       "<table border=\"1\" class=\"dataframe\">\n",
       "  <thead>\n",
       "    <tr style=\"text-align: right;\">\n",
       "      <th></th>\n",
       "      <th>sepal_lenght</th>\n",
       "      <th>sepal_width</th>\n",
       "      <th>petal_lenght</th>\n",
       "      <th>petal_width</th>\n",
       "    </tr>\n",
       "  </thead>\n",
       "  <tbody>\n",
       "    <tr>\n",
       "      <th>sepal_lenght</th>\n",
       "      <td>1.000000</td>\n",
       "      <td>-0.109369</td>\n",
       "      <td>0.871754</td>\n",
       "      <td>0.817954</td>\n",
       "    </tr>\n",
       "    <tr>\n",
       "      <th>sepal_width</th>\n",
       "      <td>-0.109369</td>\n",
       "      <td>1.000000</td>\n",
       "      <td>-0.420516</td>\n",
       "      <td>-0.356544</td>\n",
       "    </tr>\n",
       "    <tr>\n",
       "      <th>petal_lenght</th>\n",
       "      <td>0.871754</td>\n",
       "      <td>-0.420516</td>\n",
       "      <td>1.000000</td>\n",
       "      <td>0.962757</td>\n",
       "    </tr>\n",
       "    <tr>\n",
       "      <th>petal_width</th>\n",
       "      <td>0.817954</td>\n",
       "      <td>-0.356544</td>\n",
       "      <td>0.962757</td>\n",
       "      <td>1.000000</td>\n",
       "    </tr>\n",
       "  </tbody>\n",
       "</table>\n",
       "</div>"
      ],
      "text/plain": [
       "              sepal_lenght  sepal_width  petal_lenght  petal_width\n",
       "sepal_lenght      1.000000    -0.109369      0.871754     0.817954\n",
       "sepal_width      -0.109369     1.000000     -0.420516    -0.356544\n",
       "petal_lenght      0.871754    -0.420516      1.000000     0.962757\n",
       "petal_width       0.817954    -0.356544      0.962757     1.000000"
      ]
     },
     "execution_count": 163,
     "metadata": {},
     "output_type": "execute_result"
    }
   ],
   "source": [
    "dataset.corr()"
   ]
  },
  {
   "cell_type": "markdown",
   "id": "f2543377",
   "metadata": {},
   "source": [
    "- Os comprimentos de sépalas (sepal_lenght) tem alta correlação (crescimento linear semelhante) com o comprimento e largura de pétalas (pental_lenght, pental_width) e tende a ser positivo (cresce em sentido positivo, coeficiente linar - a > 0).\n",
    "- As larguras de sépalas (sepal_width) tem menor correlação (crescimento linear semelhante) com o comprimento e largura de pétalas (pental_lenght, pental_width) e tende a ser negativo (cresce em sentido negativo, coeficiente linear - a < 0)."
   ]
  },
  {
   "cell_type": "markdown",
   "id": "2d8179b2",
   "metadata": {},
   "source": [
    "### Renomeando os nomes das classes para valores numérios\n",
    "### (auxiliar durante a aplicação de Machine Learning)"
   ]
  },
  {
   "cell_type": "code",
   "execution_count": 164,
   "id": "9266e074",
   "metadata": {},
   "outputs": [
    {
     "data": {
      "text/html": [
       "<div>\n",
       "<style scoped>\n",
       "    .dataframe tbody tr th:only-of-type {\n",
       "        vertical-align: middle;\n",
       "    }\n",
       "\n",
       "    .dataframe tbody tr th {\n",
       "        vertical-align: top;\n",
       "    }\n",
       "\n",
       "    .dataframe thead th {\n",
       "        text-align: right;\n",
       "    }\n",
       "</style>\n",
       "<table border=\"1\" class=\"dataframe\">\n",
       "  <thead>\n",
       "    <tr style=\"text-align: right;\">\n",
       "      <th></th>\n",
       "      <th>sepal_lenght</th>\n",
       "      <th>sepal_width</th>\n",
       "      <th>petal_lenght</th>\n",
       "      <th>petal_width</th>\n",
       "      <th>class</th>\n",
       "    </tr>\n",
       "  </thead>\n",
       "  <tbody>\n",
       "    <tr>\n",
       "      <th>0</th>\n",
       "      <td>5.1</td>\n",
       "      <td>3.5</td>\n",
       "      <td>1.4</td>\n",
       "      <td>0.2</td>\n",
       "      <td>0</td>\n",
       "    </tr>\n",
       "    <tr>\n",
       "      <th>1</th>\n",
       "      <td>4.9</td>\n",
       "      <td>3.0</td>\n",
       "      <td>1.4</td>\n",
       "      <td>0.2</td>\n",
       "      <td>0</td>\n",
       "    </tr>\n",
       "    <tr>\n",
       "      <th>2</th>\n",
       "      <td>4.7</td>\n",
       "      <td>3.2</td>\n",
       "      <td>1.3</td>\n",
       "      <td>0.2</td>\n",
       "      <td>0</td>\n",
       "    </tr>\n",
       "    <tr>\n",
       "      <th>3</th>\n",
       "      <td>4.6</td>\n",
       "      <td>3.1</td>\n",
       "      <td>1.5</td>\n",
       "      <td>0.2</td>\n",
       "      <td>0</td>\n",
       "    </tr>\n",
       "    <tr>\n",
       "      <th>4</th>\n",
       "      <td>5.0</td>\n",
       "      <td>3.6</td>\n",
       "      <td>1.4</td>\n",
       "      <td>0.2</td>\n",
       "      <td>0</td>\n",
       "    </tr>\n",
       "  </tbody>\n",
       "</table>\n",
       "</div>"
      ],
      "text/plain": [
       "   sepal_lenght  sepal_width  petal_lenght  petal_width  class\n",
       "0           5.1          3.5           1.4          0.2      0\n",
       "1           4.9          3.0           1.4          0.2      0\n",
       "2           4.7          3.2           1.3          0.2      0\n",
       "3           4.6          3.1           1.5          0.2      0\n",
       "4           5.0          3.6           1.4          0.2      0"
      ]
     },
     "execution_count": 164,
     "metadata": {},
     "output_type": "execute_result"
    }
   ],
   "source": [
    "new_class = {}\n",
    "for i, c in enumerate(dataset[\"class\"].unique()):\n",
    "    new_class[c] = i\n",
    "\n",
    "dataset['class'].replace(new_class, inplace=True)\n",
    "dataset.head()"
   ]
  },
  {
   "cell_type": "markdown",
   "id": "8d382aaa",
   "metadata": {},
   "source": [
    "## Vizualização de dados: hora de buscar as melhores features para a predição!"
   ]
  },
  {
   "cell_type": "code",
   "execution_count": 165,
   "id": "0f3b877b",
   "metadata": {},
   "outputs": [
    {
     "data": {
      "text/plain": [
       "<matplotlib.legend.Legend at 0x28f273d4fa0>"
      ]
     },
     "execution_count": 165,
     "metadata": {},
     "output_type": "execute_result"
    },
    {
     "data": {
      "image/png": "[encoded data removed]",
      "text/plain": [
       "<Figure size 1080x576 with 1 Axes>"
      ]
     },
     "metadata": {
      "needs_background": "light"
     },
     "output_type": "display_data"
    }
   ],
   "source": [
    "fig = plt.figure(figsize=(15,8))\n",
    "eixo = fig.add_axes([0,0,1,1])\n",
    "\n",
    "cores = {0: 'r', 1: 'b', 2: 'g'}\n",
    "marcadores = {0: 'x', 1: 'o', 2: 'v'}\n",
    "\n",
    "for especie in dataset['class'].unique():\n",
    "    tmp = dataset[dataset['class'] == especie]\n",
    "    eixo.scatter(tmp['sepal_lenght'], tmp['sepal_width'],\n",
    "                 color=cores[especie], marker=marcadores[especie],\n",
    "                 s=100)\n",
    "\n",
    "eixo.set_title('Gráfico de dispersão de Sépalas: Largura x Comprimento', fontsize=25, pad=15)\n",
    "eixo.set_xlabel('Comprimento da sépala', fontsize=15)\n",
    "eixo.set_ylabel('Largura da sépala', fontsize=15)\n",
    "eixo.tick_params(labelsize=15)\n",
    "eixo.legend({'Iris-setosa': 'r', 'Iris-versicolor': 'b', 'Iris-virginica': 'g'}, fontsize=20)\n"
   ]
  },
  {
   "cell_type": "markdown",
   "id": "842e229f",
   "metadata": {},
   "source": [
    " - Na vizualização acima, pode-se observar um grupo bem definido de iris-setosas, contudo, uma certa mistura entre as iris-versicolor e as iris-virginicas, o que poderia causar problemas ou dificuldades durante uma possível predição utilizando essas duas variáveis - a largura e o comprimento das sépalas - como explicativas para a classificação "
   ]
  },
  {
   "cell_type": "code",
   "execution_count": 166,
   "id": "57d3c5da",
   "metadata": {},
   "outputs": [
    {
     "data": {
      "text/plain": [
       "<matplotlib.legend.Legend at 0x28f27424850>"
      ]
     },
     "execution_count": 166,
     "metadata": {},
     "output_type": "execute_result"
    },
    {
     "data": {
      "image/png": "[encoded data removed]",
      "text/plain": [
       "<Figure size 1080x576 with 1 Axes>"
      ]
     },
     "metadata": {
      "needs_background": "light"
     },
     "output_type": "display_data"
    }
   ],
   "source": [
    "fig = plt.figure(figsize=(15,8))\n",
    "eixo = fig.add_axes([0,0,1,1])\n",
    "\n",
    "cores = {0: 'r', 1: 'b', 2: 'g'}\n",
    "marcadores = {0: 'x', 1: 'o', 2: 'v'}\n",
    "\n",
    "for especie in dataset['class'].unique():\n",
    "    tmp = dataset[dataset['class'] == especie]\n",
    "    eixo.scatter(tmp['petal_lenght'], tmp['petal_width'],\n",
    "                 color=cores[especie], marker=marcadores[especie],\n",
    "                 s=100)\n",
    "\n",
    "eixo.set_title('Gráfico de dispersão de Pétalas: Largura x Comprimento', fontsize=25, pad=15)\n",
    "eixo.set_xlabel('Comprimento da pétala', fontsize=15)\n",
    "eixo.set_ylabel('Largura da pétala', fontsize=15)\n",
    "eixo.tick_params(labelsize=15)\n",
    "eixo.legend({'Iris-setosa': 'r', 'Iris-versicolor': 'b', 'Iris-virginica': 'g'}, fontsize=20)\n"
   ]
  },
  {
   "cell_type": "markdown",
   "id": "e3234250",
   "metadata": {},
   "source": [
    "- Nessa vizualização, por outro lado, utilizando o comprimento e a largura das pétalas como variáveis explicativas, pode-se observar com mais clareza a formação de grupos bem definidos de Iris-setosas, Iris-versicolor e Iris-virginicas. Em virtude disso, utilizaremos esses dois parâmetros - largura de pétalas e comprimento de pétalas - como variáveis explicativas do modelo preditivo para classificação de tipos de flor."
   ]
  },
  {
   "cell_type": "markdown",
   "id": "162f7b49",
   "metadata": {},
   "source": [
    "# Importanto as principais bibliotecas para uso de Machine Learning"
   ]
  },
  {
   "cell_type": "code",
   "execution_count": 167,
   "id": "f7fe4f1f",
   "metadata": {},
   "outputs": [],
   "source": [
    "from sklearn.linear_model import LogisticRegression\n",
    "from sklearn.model_selection import train_test_split\n",
    "from sklearn.preprocessing import LabelEncoder\n",
    "from sklearn.metrics import accuracy_score"
   ]
  },
  {
   "cell_type": "code",
   "execution_count": 168,
   "id": "aabf0184",
   "metadata": {},
   "outputs": [],
   "source": [
    "X = dataset[[\"petal_lenght\", \"petal_width\"]]\n",
    "Y = dataset[[\"class\"]]\n",
    "x_train, x_test, y_train, y_test = train_test_split(X, Y, test_size=0.2, random_state=1)"
   ]
  },
  {
   "cell_type": "markdown",
   "id": "92813ae4",
   "metadata": {},
   "source": [
    "## Utilizaremos a técnica de Regressão Logística para esse problema\n",
    "- Observação: embora essa técnica seja mais comumente utilizada em casos binários de classificação (exemplo .: determinada transação bancária é real ou não), ela continua funcionando devido ao seu background probabilístico para estimar qual o tipo de classificação de flor"
   ]
  },
  {
   "cell_type": "code",
   "execution_count": 169,
   "id": "57bfce78",
   "metadata": {},
   "outputs": [
    {
     "data": {
      "text/plain": [
       "LogisticRegression()"
      ]
     },
     "execution_count": 169,
     "metadata": {},
     "output_type": "execute_result"
    }
   ],
   "source": [
    "model = LogisticRegression()\n",
    "model.fit(x_train, y_train)"
   ]
  },
  {
   "cell_type": "code",
   "execution_count": 170,
   "id": "4a01de31",
   "metadata": {},
   "outputs": [
    {
     "name": "stdout",
     "output_type": "stream",
     "text": [
      "Potuação de precisão com os dados de teste: 96.67%\n"
     ]
    }
   ],
   "source": [
    "previsto = model.predict(x_test)\n",
    "precisao = accuracy_score(y_test, previsto)\n",
    "\n",
    "print(f'Potuação de precisão com os dados de teste: {precisao * 100:.2f}%')\n"
   ]
  },
  {
   "cell_type": "markdown",
   "id": "88cea343",
   "metadata": {},
   "source": [
    "### Por fim, conseguimos um ótimo resultado. Score próximo de 97%! O objetivo foi concluido com sucesso!"
   ]
  }
 ],
 "metadata": {
  "kernelspec": {
   "display_name": "Python 3",
   "language": "python",
   "name": "python3"
  },
  "language_info": {
   "codemirror_mode": {
    "name": "ipython",
    "version": 3
   },
   "file_extension": ".py",
   "mimetype": "text/x-python",
   "name": "python",
   "nbconvert_exporter": "python",
   "pygments_lexer": "ipython3",
   "version": "3.8.8"
  }
 },
 "nbformat": 4,
 "nbformat_minor": 5
}
